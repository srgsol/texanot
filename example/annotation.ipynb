{
 "cells": [
  {
   "cell_type": "markdown",
   "id": "22b0d88b-dc45-4cda-8d3d-8f4320134193",
   "metadata": {
    "tags": []
   },
   "source": [
    "# `txtanot`. Text Annotator with Similarity Engine."
   ]
  },
  {
   "cell_type": "markdown",
   "id": "b0f0b5bd-e77c-423e-bfd8-96f0d8068483",
   "metadata": {},
   "source": [
    "## Features\n",
    "- Displays a GUI (graphical user interface) in a cell of a Jupyter notebook and allows annotating text.\n",
    "- Similarity engine. It is useful to collect data similar to one given item. Given a large dataset, while annotating we may find one relevant item and want to have more similar examples. Instead of going through all the data, we can focus on finding similar data points.\n",
    "  - Extracts embeddings of the loaded dataset and builds an index.\n",
    "  - It uses a Hugging Face model checkpoint to extract embeddings. The checkpoint to use is a parameter easily configurable.\n",
    "  - It is optional. The widget can vbe used without similarity index.\n",
    "- Multiple annotation classes.\n",
    "- Handles data which has already being annotated. Option to filter annotated data and keep untouched."
   ]
  },
  {
   "cell_type": "code",
   "execution_count": 1,
   "id": "90b93341-b43f-4dc3-8c47-1e958ad79696",
   "metadata": {},
   "outputs": [],
   "source": [
    "%load_ext autoreload\n",
    "%autoreload 2"
   ]
  },
  {
   "cell_type": "code",
   "execution_count": 3,
   "id": "0218dfbc-228c-4a70-a1b4-61001f510199",
   "metadata": {
    "tags": []
   },
   "outputs": [],
   "source": [
    "from pprint import pprint\n",
    "\n",
    "import pandas as pd\n",
    "from datasets import Dataset\n",
    "\n",
    "from txtanot.core.text_annotator import Annotator\n",
    "from txtanot.core.similarity import SimilarityEngine"
   ]
  },
  {
   "cell_type": "code",
   "execution_count": 4,
   "id": "e108fc2a-eb6f-4b13-a0d7-ef5e570209c0",
   "metadata": {},
   "outputs": [],
   "source": [
    "pd.set_option('display.max_colwidth', 100)"
   ]
  },
  {
   "cell_type": "markdown",
   "id": "d086d2d0-a0ce-44c8-bfd7-92ea264ab61e",
   "metadata": {},
   "source": [
    "## Load data to be annotated"
   ]
  },
  {
   "cell_type": "code",
   "execution_count": 5,
   "id": "fd0fe3a4-d24d-43c1-acc4-e0ce71b6862e",
   "metadata": {
    "tags": []
   },
   "outputs": [
    {
     "name": "stdout",
     "output_type": "stream",
     "text": [
      "Shape: (995, 3)\n"
     ]
    },
    {
     "data": {
      "text/html": [
       "<div>\n",
       "<style scoped>\n",
       "    .dataframe tbody tr th:only-of-type {\n",
       "        vertical-align: middle;\n",
       "    }\n",
       "\n",
       "    .dataframe tbody tr th {\n",
       "        vertical-align: top;\n",
       "    }\n",
       "\n",
       "    .dataframe thead th {\n",
       "        text-align: right;\n",
       "    }\n",
       "</style>\n",
       "<table border=\"1\" class=\"dataframe\">\n",
       "  <thead>\n",
       "    <tr style=\"text-align: right;\">\n",
       "      <th></th>\n",
       "      <th>id</th>\n",
       "      <th>text</th>\n",
       "      <th>label</th>\n",
       "    </tr>\n",
       "  </thead>\n",
       "  <tbody>\n",
       "    <tr>\n",
       "      <th>0</th>\n",
       "      <td>5fee3d06-0000-1000-8333-a2a2a2116fff</td>\n",
       "      <td>Muy buenas noches, Apreciada consultante: Las lipo-infiltraciones realizadas de manera arbitrari...</td>\n",
       "      <td>NaN</td>\n",
       "    </tr>\n",
       "    <tr>\n",
       "      <th>1</th>\n",
       "      <td>5fede218-0000-1000-8333-a2a2a2105fff</td>\n",
       "      <td>Puede parecer más pequeño, pero realmente el tejido que se extirpa es mínimo, solo piel para aju...</td>\n",
       "      <td>NaN</td>\n",
       "    </tr>\n",
       "    <tr>\n",
       "      <th>2</th>\n",
       "      <td>5fede15d-0000-1000-8333-a2a2a2104fff</td>\n",
       "      <td>La fotografía no es muy aclaradora, por si acaso yo te recomiendo una pomada antibiótica de ampl...</td>\n",
       "      <td>NaN</td>\n",
       "    </tr>\n",
       "  </tbody>\n",
       "</table>\n",
       "</div>"
      ],
      "text/plain": [
       "                                     id  \\\n",
       "0  5fee3d06-0000-1000-8333-a2a2a2116fff   \n",
       "1  5fede218-0000-1000-8333-a2a2a2105fff   \n",
       "2  5fede15d-0000-1000-8333-a2a2a2104fff   \n",
       "\n",
       "                                                                                                  text  \\\n",
       "0  Muy buenas noches, Apreciada consultante: Las lipo-infiltraciones realizadas de manera arbitrari...   \n",
       "1  Puede parecer más pequeño, pero realmente el tejido que se extirpa es mínimo, solo piel para aju...   \n",
       "2  La fotografía no es muy aclaradora, por si acaso yo te recomiendo una pomada antibiótica de ampl...   \n",
       "\n",
       "   label  \n",
       "0    NaN  \n",
       "1    NaN  \n",
       "2    NaN  "
      ]
     },
     "execution_count": 5,
     "metadata": {},
     "output_type": "execute_result"
    }
   ],
   "source": [
    "FILE_NAME = 'es_2020.csv'\n",
    "df = pd.read_csv(FILE_NAME)\n",
    "print('Shape:', df.shape)\n",
    "df.head(3)"
   ]
  },
  {
   "cell_type": "markdown",
   "id": "def7cfcd-6a28-4233-a795-4db49c278af4",
   "metadata": {},
   "source": [
    "## Create an Annotator object\n",
    "\n",
    "- Define classification classes to be used.\n",
    "- Filter already annotated data. Keep untouched in the dataset."
   ]
  },
  {
   "cell_type": "code",
   "execution_count": 6,
   "id": "ffed9375-1041-4332-a5a1-f86fe785af9e",
   "metadata": {},
   "outputs": [
    {
     "name": "stdout",
     "output_type": "stream",
     "text": [
      "Data rows: 995\n"
     ]
    }
   ],
   "source": [
    "shuffle = True\n",
    "annotator = Annotator(df, filter_annotated=True, classes=[\"valid\", \"notvalid\", \"lowinfo\"], shuffle=shuffle)"
   ]
  },
  {
   "cell_type": "code",
   "execution_count": 7,
   "id": "1fee5a83-3264-413e-8b26-c1c775995dad",
   "metadata": {},
   "outputs": [
    {
     "name": "stdout",
     "output_type": "stream",
     "text": [
      "Series([], Name: count, dtype: int64)\n"
     ]
    }
   ],
   "source": [
    "annotator.counts('label')"
   ]
  },
  {
   "cell_type": "markdown",
   "id": "e9c32ec3-5787-417d-a47f-cde28f0d4f2d",
   "metadata": {},
   "source": [
    "### Define similarity model\n",
    "\n",
    "Define Hugging-Face model checkpoint to be used to build and index of embeddings using Faiss indexer."
   ]
  },
  {
   "cell_type": "code",
   "execution_count": 8,
   "id": "fda1ad93-d128-424c-851f-1a3916141da3",
   "metadata": {},
   "outputs": [
    {
     "name": "stderr",
     "output_type": "stream",
     "text": [
      "Some weights of the model checkpoint at PlanTL-GOB-ES/roberta-base-biomedical-clinical-es were not used when initializing RobertaModel: ['lm_head.decoder.weight', 'lm_head.layer_norm.weight', 'lm_head.dense.weight', 'lm_head.layer_norm.bias', 'lm_head.dense.bias', 'lm_head.decoder.bias', 'lm_head.bias']\n",
      "- This IS expected if you are initializing RobertaModel from the checkpoint of a model trained on another task or with another architecture (e.g. initializing a BertForSequenceClassification model from a BertForPreTraining model).\n",
      "- This IS NOT expected if you are initializing RobertaModel from the checkpoint of a model that you expect to be exactly identical (initializing a BertForSequenceClassification model from a BertForSequenceClassification model).\n",
      "Some weights of RobertaModel were not initialized from the model checkpoint at PlanTL-GOB-ES/roberta-base-biomedical-clinical-es and are newly initialized: ['roberta.pooler.dense.bias', 'roberta.pooler.dense.weight']\n",
      "You should probably TRAIN this model on a down-stream task to be able to use it for predictions and inference.\n"
     ]
    },
    {
     "data": {
      "application/vnd.jupyter.widget-view+json": {
       "model_id": "",
       "version_major": 2,
       "version_minor": 0
      },
      "text/plain": [
       "Map:   0%|          | 0/995 [00:00<?, ? examples/s]"
      ]
     },
     "metadata": {},
     "output_type": "display_data"
    },
    {
     "data": {
      "application/vnd.jupyter.widget-view+json": {
       "model_id": "27c6f666207c487cb4bf66957814afd7",
       "version_major": 2,
       "version_minor": 0
      },
      "text/plain": [
       "  0%|          | 0/1 [00:00<?, ?it/s]"
      ]
     },
     "metadata": {},
     "output_type": "display_data"
    }
   ],
   "source": [
    "checkpoint = \"PlanTL-GOB-ES/roberta-base-biomedical-clinical-es\"\n",
    "annotator.build_index('text', checkpoint)"
   ]
  },
  {
   "cell_type": "markdown",
   "id": "b27bb3a2-6b08-4f4d-bc25-bdb8e7493e61",
   "metadata": {},
   "source": [
    "## Annotation\n",
    "\n",
    "Start annotation widget.\n",
    "- Display the text to be annotated and its metadata. Metadata shown can be tuned: Inherit from `txtanot.core.text_annotator.Datapoint` class.\n",
    "- Widget show one button for each classification label defined and buttons to browse data."
   ]
  },
  {
   "cell_type": "code",
   "execution_count": 9,
   "id": "6769211e",
   "metadata": {},
   "outputs": [
    {
     "data": {
      "application/vnd.jupyter.widget-view+json": {
       "model_id": "95514e225e9e4e6e8519b7182a8afe1f",
       "version_major": 2,
       "version_minor": 0
      },
      "text/plain": [
       "Output(layout=Layout(height='300px', max_width='600px'))"
      ]
     },
     "metadata": {},
     "output_type": "display_data"
    },
    {
     "data": {
      "application/vnd.jupyter.widget-view+json": {
       "model_id": "c40e69ed57e84bc99dd5a069b60257f0",
       "version_major": 2,
       "version_minor": 0
      },
      "text/plain": [
       "HBox(children=(Button(description='< go back', style=ButtonStyle()), Button(description='next >', style=Button…"
      ]
     },
     "metadata": {},
     "output_type": "display_data"
    },
    {
     "data": {
      "application/vnd.jupyter.widget-view+json": {
       "model_id": "b709932e4b74483b9599b769b1c9912a",
       "version_major": 2,
       "version_minor": 0
      },
      "text/plain": [
       "HBox(children=(Button(description='valid', style=ButtonStyle()), Button(description='notvalid', style=ButtonSt…"
      ]
     },
     "metadata": {},
     "output_type": "display_data"
    }
   ],
   "source": [
    "annotator.start()"
   ]
  },
  {
   "cell_type": "markdown",
   "id": "a3592f6a-dacc-4fc6-956e-8600eede1d75",
   "metadata": {},
   "source": [
    "## Similarity\n",
    "\n",
    "Once the Annotator object has been defined and the Faiss index build, we can start looking for similar texts in de index. Given an input text, the widget presents N similar text in the index to be annotated."
   ]
  },
  {
   "cell_type": "code",
   "execution_count": 15,
   "id": "98cef30c-24a6-4196-9cbe-8b3192daedc5",
   "metadata": {},
   "outputs": [
    {
     "data": {
      "application/vnd.jupyter.widget-view+json": {
       "model_id": "d1e7b541b6f04988a21e3f2727ddb611",
       "version_major": 2,
       "version_minor": 0
      },
      "text/plain": [
       "Output(layout=Layout(height='300px', max_width='600px'))"
      ]
     },
     "metadata": {},
     "output_type": "display_data"
    },
    {
     "data": {
      "application/vnd.jupyter.widget-view+json": {
       "model_id": "5ab179d1a3eb494288a5353cfdd6db86",
       "version_major": 2,
       "version_minor": 0
      },
      "text/plain": [
       "HBox(children=(Button(description='< go back', style=ButtonStyle()), Button(description='next >', style=Button…"
      ]
     },
     "metadata": {},
     "output_type": "display_data"
    },
    {
     "data": {
      "application/vnd.jupyter.widget-view+json": {
       "model_id": "aae879eb4fab43399909c13ff0fcd3d2",
       "version_major": 2,
       "version_minor": 0
      },
      "text/plain": [
       "HBox(children=(Button(description='valid', style=ButtonStyle()), Button(description='notvalid', style=ButtonSt…"
      ]
     },
     "metadata": {},
     "output_type": "display_data"
    }
   ],
   "source": [
    "txt = (\"Recuerde que en nuestra clínica la primera visita es totalmente gratuita\")\n",
    "annotator.similar(txt, n=20)"
   ]
  },
  {
   "cell_type": "code",
   "execution_count": 12,
   "id": "4d912f30-f51d-4da8-8f21-d36adb9c3c78",
   "metadata": {},
   "outputs": [],
   "source": [
    "# Incorporate annotations to the dataset.\n",
    "annotator.merge_similar()"
   ]
  },
  {
   "cell_type": "markdown",
   "id": "cce10d7a-3162-48c2-a1c3-d8960bf67cbd",
   "metadata": {},
   "source": [
    "## Save"
   ]
  },
  {
   "cell_type": "code",
   "execution_count": 16,
   "id": "9ab1a8b5-2276-4626-a3d6-a597f4429c49",
   "metadata": {},
   "outputs": [
    {
     "data": {
      "text/html": [
       "<div>\n",
       "<style scoped>\n",
       "    .dataframe tbody tr th:only-of-type {\n",
       "        vertical-align: middle;\n",
       "    }\n",
       "\n",
       "    .dataframe tbody tr th {\n",
       "        vertical-align: top;\n",
       "    }\n",
       "\n",
       "    .dataframe thead th {\n",
       "        text-align: right;\n",
       "    }\n",
       "</style>\n",
       "<table border=\"1\" class=\"dataframe\">\n",
       "  <thead>\n",
       "    <tr style=\"text-align: right;\">\n",
       "      <th></th>\n",
       "      <th>id</th>\n",
       "      <th>text</th>\n",
       "      <th>label</th>\n",
       "    </tr>\n",
       "  </thead>\n",
       "  <tbody>\n",
       "    <tr>\n",
       "      <th>0</th>\n",
       "      <td>5feb4d89-0000-1000-8333-a2a2a20adfff</td>\n",
       "      <td>Estimada paciente todos los tratamientos inductores de colágeno tardan un tiempo en producir una...</td>\n",
       "      <td>NaN</td>\n",
       "    </tr>\n",
       "    <tr>\n",
       "      <th>1</th>\n",
       "      <td>5fbf028c-0000-1000-8333-a1a1a1a0afff</td>\n",
       "      <td>Estimada paciente, usted pregunta por la técnica de FOXY EYES, que se realiza con hilos tensores...</td>\n",
       "      <td>NaN</td>\n",
       "    </tr>\n",
       "    <tr>\n",
       "      <th>2</th>\n",
       "      <td>5fa13270-0000-1000-8333-a1a1a1568fff</td>\n",
       "      <td>Estimada paciente, \\r\\nlo normal es que a las 3 semanas ya haya cedido el edema postoperatorio m...</td>\n",
       "      <td>NaN</td>\n",
       "    </tr>\n",
       "  </tbody>\n",
       "</table>\n",
       "</div>"
      ],
      "text/plain": [
       "                                     id  \\\n",
       "0  5feb4d89-0000-1000-8333-a2a2a20adfff   \n",
       "1  5fbf028c-0000-1000-8333-a1a1a1a0afff   \n",
       "2  5fa13270-0000-1000-8333-a1a1a1568fff   \n",
       "\n",
       "                                                                                                  text  \\\n",
       "0  Estimada paciente todos los tratamientos inductores de colágeno tardan un tiempo en producir una...   \n",
       "1  Estimada paciente, usted pregunta por la técnica de FOXY EYES, que se realiza con hilos tensores...   \n",
       "2  Estimada paciente, \\r\\nlo normal es que a las 3 semanas ya haya cedido el edema postoperatorio m...   \n",
       "\n",
       "  label  \n",
       "0   NaN  \n",
       "1   NaN  \n",
       "2   NaN  "
      ]
     },
     "execution_count": 16,
     "metadata": {},
     "output_type": "execute_result"
    }
   ],
   "source": [
    "df_ = pd.DataFrame(annotator.data)\n",
    "df_.head(3)"
   ]
  },
  {
   "cell_type": "code",
   "execution_count": 17,
   "id": "62bc8dbb-3e5a-4857-a6ee-376e484ed047",
   "metadata": {},
   "outputs": [
    {
     "data": {
      "text/plain": [
       "label\n",
       "valid       13\n",
       "notvalid     3\n",
       "lowinfo      3\n",
       "Name: count, dtype: int64"
      ]
     },
     "execution_count": 17,
     "metadata": {},
     "output_type": "execute_result"
    }
   ],
   "source": [
    "df_['label'].value_counts()"
   ]
  },
  {
   "cell_type": "code",
   "execution_count": 18,
   "id": "b4f7210e-6fd9-40ed-ade9-4bb5b221224d",
   "metadata": {},
   "outputs": [
    {
     "data": {
      "text/plain": [
       "'es_2020.csv'"
      ]
     },
     "execution_count": 18,
     "metadata": {},
     "output_type": "execute_result"
    }
   ],
   "source": [
    "FILE_NAME"
   ]
  },
  {
   "cell_type": "code",
   "execution_count": 19,
   "id": "6645972b-233b-4855-9c72-aadbf265e06e",
   "metadata": {},
   "outputs": [],
   "source": [
    "df_.to_csv(FILE_NAME, index=False)"
   ]
  },
  {
   "cell_type": "code",
   "execution_count": null,
   "id": "135c0de7-ef4e-4ec5-9319-7c4fc38d46f6",
   "metadata": {},
   "outputs": [],
   "source": []
  }
 ],
 "metadata": {
  "hide_input": false,
  "kernelspec": {
   "display_name": "Python 3 (ipykernel)",
   "language": "python",
   "name": "python3"
  },
  "language_info": {
   "codemirror_mode": {
    "name": "ipython",
    "version": 3
   },
   "file_extension": ".py",
   "mimetype": "text/x-python",
   "name": "python",
   "nbconvert_exporter": "python",
   "pygments_lexer": "ipython3",
   "version": "3.9.16"
  },
  "toc": {
   "base_numbering": 1,
   "nav_menu": {},
   "number_sections": true,
   "sideBar": true,
   "skip_h1_title": false,
   "title_cell": "Table of Contents",
   "title_sidebar": "Contents",
   "toc_cell": false,
   "toc_position": {},
   "toc_section_display": true,
   "toc_window_display": false
  }
 },
 "nbformat": 4,
 "nbformat_minor": 5
}
